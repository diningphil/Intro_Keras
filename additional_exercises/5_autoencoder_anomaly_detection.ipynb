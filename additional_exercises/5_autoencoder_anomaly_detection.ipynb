{
 "cells": [
  {
   "cell_type": "markdown",
   "metadata": {},
   "source": [
    "<div style=\"height:100px\">\n",
    "\n",
    "<div style=\"display:inline-block; width:77%; vertical-align:middle;\">\n",
    "    <div>\n",
    "        <b>Author</b>: <a href=\"http://pages.di.unipi.it/castellana/\">Daniele Castellana</a>\n",
    "    </div>\n",
    "    <div>\n",
    "        PhD student at the Univeristy of Pisa and member of the Computational Intelligence & Machine Learning Group (<a href=\"http://www.di.unipi.it/groups/ciml/\">CIML</a>)\n",
    "    </div>\n",
    "    <div>\n",
    "        <b>Mail</b>: <a href=\"mailto:daniele.castellana@di.unipi.it\">daniele.castellana@di.unipi.it</a>\n",
    "    </div>\n",
    "</div>\n",
    "\n",
    "<div style=\"display:inline-block; width: 10%; vertical-align:middle;\">\n",
    "    <img align=\"right\" width=\"100%\" src=\"https://upload.wikimedia.org/wikipedia/it/7/72/Stemma_unipi.png\">\n",
    "</div>\n",
    "\n",
    "<div style=\"display:inline-block; width: 10%; vertical-align:middle;\">\n",
    "    <img align=\"right\" width=\"100%\" src=\"http://www.di.unipi.it/groups/ciml/Home_files/loghi/logo_ciml-restyling2018.svg\">\n",
    "</div>\n",
    "</div>"
   ]
  },
  {
   "cell_type": "markdown",
   "metadata": {},
   "source": [
    "# Anomalies detection using Autoencoders\n",
    "\n",
    "The Autoencoder model can be used to perform anomalies detection.\n",
    "\n",
    "The idea is simple: we train the autoencoder only on \"normal data\"; then, the model will make more error when it will reconstruct an anomaly sample; hence, we can detect anomalies input setting a threshold on the reconstruction error.\n",
    "\n",
    "## Data\n",
    "Rhe credit card fraud dataset contains 284,807 European credit card transactions that occurred over two days with 492 fraudulent transactions. Everything except the time and amount has been reduced by a Principle Component Analysis (PCA) for privacy concerns. You can dowload the dataset from [kaggle](https://www.kaggle.com/mlg-ulb/creditcardfraud/data).\n",
    "\n",
    "**This sample contains some hint to improve the model: find the TODO comments!**"
   ]
  },
  {
   "cell_type": "code",
   "execution_count": 1,
   "metadata": {
    "pycharm": {
     "is_executing": false,
     "name": "#%%\n"
    }
   },
   "outputs": [
    {
     "name": "stderr",
     "output_type": "stream",
     "text": [
      "Using TensorFlow backend.\n"
     ]
    }
   ],
   "source": [
    "import pandas as pd\n",
    "import numpy as np\n",
    "import pickle\n",
    "import matplotlib.pyplot as plt\n",
    "from scipy import stats\n",
    "import tensorflow as tf\n",
    "from sklearn.model_selection import train_test_split\n",
    "from keras.models import Model, Sequential, load_model\n",
    "from keras.layers import Input, Dense\n",
    "from keras.callbacks import ModelCheckpoint, TensorBoard\n",
    "from keras import regularizers\n",
    "\n",
    "from keras.wrappers.scikit_learn import KerasRegressor\n",
    "from sklearn.model_selection import GridSearchCV\n",
    "\n",
    "from sklearn.preprocessing import StandardScaler\n",
    "\n",
    "%matplotlib inline\n",
    "RANDOM_SEED = 42\n",
    "LABELS = [\"Normal\", \"Fraud\"]"
   ]
  },
  {
   "cell_type": "code",
   "execution_count": 2,
   "metadata": {
    "pycharm": {
     "is_executing": false,
     "metadata": false,
     "name": "#%%\n"
    }
   },
   "outputs": [
    {
     "data": {
      "text/plain": [
       "(284807, 31)"
      ]
     },
     "execution_count": 2,
     "metadata": {},
     "output_type": "execute_result"
    }
   ],
   "source": [
    "df = pd.read_csv(\"data/creditcard.csv\")\n",
    "df.shape"
   ]
  },
  {
   "cell_type": "code",
   "execution_count": 3,
   "metadata": {
    "pycharm": {
     "is_executing": false,
     "metadata": false,
     "name": "#%%\n"
    }
   },
   "outputs": [
    {
     "data": {
      "text/html": [
       "<div>\n",
       "<style scoped>\n",
       "    .dataframe tbody tr th:only-of-type {\n",
       "        vertical-align: middle;\n",
       "    }\n",
       "\n",
       "    .dataframe tbody tr th {\n",
       "        vertical-align: top;\n",
       "    }\n",
       "\n",
       "    .dataframe thead th {\n",
       "        text-align: right;\n",
       "    }\n",
       "</style>\n",
       "<table border=\"1\" class=\"dataframe\">\n",
       "  <thead>\n",
       "    <tr style=\"text-align: right;\">\n",
       "      <th></th>\n",
       "      <th>V1</th>\n",
       "      <th>V2</th>\n",
       "      <th>V3</th>\n",
       "      <th>V4</th>\n",
       "      <th>V5</th>\n",
       "      <th>V6</th>\n",
       "      <th>V7</th>\n",
       "      <th>V8</th>\n",
       "      <th>V9</th>\n",
       "      <th>V10</th>\n",
       "      <th>...</th>\n",
       "      <th>V21</th>\n",
       "      <th>V22</th>\n",
       "      <th>V23</th>\n",
       "      <th>V24</th>\n",
       "      <th>V25</th>\n",
       "      <th>V26</th>\n",
       "      <th>V27</th>\n",
       "      <th>V28</th>\n",
       "      <th>Amount</th>\n",
       "      <th>Class</th>\n",
       "    </tr>\n",
       "  </thead>\n",
       "  <tbody>\n",
       "    <tr>\n",
       "      <th>0</th>\n",
       "      <td>-1.359807</td>\n",
       "      <td>-0.072781</td>\n",
       "      <td>2.536347</td>\n",
       "      <td>1.378155</td>\n",
       "      <td>-0.338321</td>\n",
       "      <td>0.462388</td>\n",
       "      <td>0.239599</td>\n",
       "      <td>0.098698</td>\n",
       "      <td>0.363787</td>\n",
       "      <td>0.090794</td>\n",
       "      <td>...</td>\n",
       "      <td>-0.018307</td>\n",
       "      <td>0.277838</td>\n",
       "      <td>-0.110474</td>\n",
       "      <td>0.066928</td>\n",
       "      <td>0.128539</td>\n",
       "      <td>-0.189115</td>\n",
       "      <td>0.133558</td>\n",
       "      <td>-0.021053</td>\n",
       "      <td>0.244964</td>\n",
       "      <td>0</td>\n",
       "    </tr>\n",
       "    <tr>\n",
       "      <th>1</th>\n",
       "      <td>1.191857</td>\n",
       "      <td>0.266151</td>\n",
       "      <td>0.166480</td>\n",
       "      <td>0.448154</td>\n",
       "      <td>0.060018</td>\n",
       "      <td>-0.082361</td>\n",
       "      <td>-0.078803</td>\n",
       "      <td>0.085102</td>\n",
       "      <td>-0.255425</td>\n",
       "      <td>-0.166974</td>\n",
       "      <td>...</td>\n",
       "      <td>-0.225775</td>\n",
       "      <td>-0.638672</td>\n",
       "      <td>0.101288</td>\n",
       "      <td>-0.339846</td>\n",
       "      <td>0.167170</td>\n",
       "      <td>0.125895</td>\n",
       "      <td>-0.008983</td>\n",
       "      <td>0.014724</td>\n",
       "      <td>-0.342475</td>\n",
       "      <td>0</td>\n",
       "    </tr>\n",
       "    <tr>\n",
       "      <th>2</th>\n",
       "      <td>-1.358354</td>\n",
       "      <td>-1.340163</td>\n",
       "      <td>1.773209</td>\n",
       "      <td>0.379780</td>\n",
       "      <td>-0.503198</td>\n",
       "      <td>1.800499</td>\n",
       "      <td>0.791461</td>\n",
       "      <td>0.247676</td>\n",
       "      <td>-1.514654</td>\n",
       "      <td>0.207643</td>\n",
       "      <td>...</td>\n",
       "      <td>0.247998</td>\n",
       "      <td>0.771679</td>\n",
       "      <td>0.909412</td>\n",
       "      <td>-0.689281</td>\n",
       "      <td>-0.327642</td>\n",
       "      <td>-0.139097</td>\n",
       "      <td>-0.055353</td>\n",
       "      <td>-0.059752</td>\n",
       "      <td>1.160686</td>\n",
       "      <td>0</td>\n",
       "    </tr>\n",
       "    <tr>\n",
       "      <th>3</th>\n",
       "      <td>-0.966272</td>\n",
       "      <td>-0.185226</td>\n",
       "      <td>1.792993</td>\n",
       "      <td>-0.863291</td>\n",
       "      <td>-0.010309</td>\n",
       "      <td>1.247203</td>\n",
       "      <td>0.237609</td>\n",
       "      <td>0.377436</td>\n",
       "      <td>-1.387024</td>\n",
       "      <td>-0.054952</td>\n",
       "      <td>...</td>\n",
       "      <td>-0.108300</td>\n",
       "      <td>0.005274</td>\n",
       "      <td>-0.190321</td>\n",
       "      <td>-1.175575</td>\n",
       "      <td>0.647376</td>\n",
       "      <td>-0.221929</td>\n",
       "      <td>0.062723</td>\n",
       "      <td>0.061458</td>\n",
       "      <td>0.140534</td>\n",
       "      <td>0</td>\n",
       "    </tr>\n",
       "    <tr>\n",
       "      <th>4</th>\n",
       "      <td>-1.158233</td>\n",
       "      <td>0.877737</td>\n",
       "      <td>1.548718</td>\n",
       "      <td>0.403034</td>\n",
       "      <td>-0.407193</td>\n",
       "      <td>0.095921</td>\n",
       "      <td>0.592941</td>\n",
       "      <td>-0.270533</td>\n",
       "      <td>0.817739</td>\n",
       "      <td>0.753074</td>\n",
       "      <td>...</td>\n",
       "      <td>-0.009431</td>\n",
       "      <td>0.798278</td>\n",
       "      <td>-0.137458</td>\n",
       "      <td>0.141267</td>\n",
       "      <td>-0.206010</td>\n",
       "      <td>0.502292</td>\n",
       "      <td>0.219422</td>\n",
       "      <td>0.215153</td>\n",
       "      <td>-0.073403</td>\n",
       "      <td>0</td>\n",
       "    </tr>\n",
       "    <tr>\n",
       "      <th>5</th>\n",
       "      <td>-0.425966</td>\n",
       "      <td>0.960523</td>\n",
       "      <td>1.141109</td>\n",
       "      <td>-0.168252</td>\n",
       "      <td>0.420987</td>\n",
       "      <td>-0.029728</td>\n",
       "      <td>0.476201</td>\n",
       "      <td>0.260314</td>\n",
       "      <td>-0.568671</td>\n",
       "      <td>-0.371407</td>\n",
       "      <td>...</td>\n",
       "      <td>-0.208254</td>\n",
       "      <td>-0.559825</td>\n",
       "      <td>-0.026398</td>\n",
       "      <td>-0.371427</td>\n",
       "      <td>-0.232794</td>\n",
       "      <td>0.105915</td>\n",
       "      <td>0.253844</td>\n",
       "      <td>0.081080</td>\n",
       "      <td>-0.338556</td>\n",
       "      <td>0</td>\n",
       "    </tr>\n",
       "    <tr>\n",
       "      <th>6</th>\n",
       "      <td>1.229658</td>\n",
       "      <td>0.141004</td>\n",
       "      <td>0.045371</td>\n",
       "      <td>1.202613</td>\n",
       "      <td>0.191881</td>\n",
       "      <td>0.272708</td>\n",
       "      <td>-0.005159</td>\n",
       "      <td>0.081213</td>\n",
       "      <td>0.464960</td>\n",
       "      <td>-0.099254</td>\n",
       "      <td>...</td>\n",
       "      <td>-0.167716</td>\n",
       "      <td>-0.270710</td>\n",
       "      <td>-0.154104</td>\n",
       "      <td>-0.780055</td>\n",
       "      <td>0.750137</td>\n",
       "      <td>-0.257237</td>\n",
       "      <td>0.034507</td>\n",
       "      <td>0.005168</td>\n",
       "      <td>-0.333279</td>\n",
       "      <td>0</td>\n",
       "    </tr>\n",
       "    <tr>\n",
       "      <th>7</th>\n",
       "      <td>-0.644269</td>\n",
       "      <td>1.417964</td>\n",
       "      <td>1.074380</td>\n",
       "      <td>-0.492199</td>\n",
       "      <td>0.948934</td>\n",
       "      <td>0.428118</td>\n",
       "      <td>1.120631</td>\n",
       "      <td>-3.807864</td>\n",
       "      <td>0.615375</td>\n",
       "      <td>1.249376</td>\n",
       "      <td>...</td>\n",
       "      <td>1.943465</td>\n",
       "      <td>-1.015455</td>\n",
       "      <td>0.057504</td>\n",
       "      <td>-0.649709</td>\n",
       "      <td>-0.415267</td>\n",
       "      <td>-0.051634</td>\n",
       "      <td>-1.206921</td>\n",
       "      <td>-1.085339</td>\n",
       "      <td>-0.190107</td>\n",
       "      <td>0</td>\n",
       "    </tr>\n",
       "    <tr>\n",
       "      <th>8</th>\n",
       "      <td>-0.894286</td>\n",
       "      <td>0.286157</td>\n",
       "      <td>-0.113192</td>\n",
       "      <td>-0.271526</td>\n",
       "      <td>2.669599</td>\n",
       "      <td>3.721818</td>\n",
       "      <td>0.370145</td>\n",
       "      <td>0.851084</td>\n",
       "      <td>-0.392048</td>\n",
       "      <td>-0.410430</td>\n",
       "      <td>...</td>\n",
       "      <td>-0.073425</td>\n",
       "      <td>-0.268092</td>\n",
       "      <td>-0.204233</td>\n",
       "      <td>1.011592</td>\n",
       "      <td>0.373205</td>\n",
       "      <td>-0.384157</td>\n",
       "      <td>0.011747</td>\n",
       "      <td>0.142404</td>\n",
       "      <td>0.019392</td>\n",
       "      <td>0</td>\n",
       "    </tr>\n",
       "    <tr>\n",
       "      <th>9</th>\n",
       "      <td>-0.338262</td>\n",
       "      <td>1.119593</td>\n",
       "      <td>1.044367</td>\n",
       "      <td>-0.222187</td>\n",
       "      <td>0.499361</td>\n",
       "      <td>-0.246761</td>\n",
       "      <td>0.651583</td>\n",
       "      <td>0.069539</td>\n",
       "      <td>-0.736727</td>\n",
       "      <td>-0.366846</td>\n",
       "      <td>...</td>\n",
       "      <td>-0.246914</td>\n",
       "      <td>-0.633753</td>\n",
       "      <td>-0.120794</td>\n",
       "      <td>-0.385050</td>\n",
       "      <td>-0.069733</td>\n",
       "      <td>0.094199</td>\n",
       "      <td>0.246219</td>\n",
       "      <td>0.083076</td>\n",
       "      <td>-0.338516</td>\n",
       "      <td>0</td>\n",
       "    </tr>\n",
       "  </tbody>\n",
       "</table>\n",
       "<p>10 rows × 30 columns</p>\n",
       "</div>"
      ],
      "text/plain": [
       "         V1        V2        V3        V4        V5        V6        V7  \\\n",
       "0 -1.359807 -0.072781  2.536347  1.378155 -0.338321  0.462388  0.239599   \n",
       "1  1.191857  0.266151  0.166480  0.448154  0.060018 -0.082361 -0.078803   \n",
       "2 -1.358354 -1.340163  1.773209  0.379780 -0.503198  1.800499  0.791461   \n",
       "3 -0.966272 -0.185226  1.792993 -0.863291 -0.010309  1.247203  0.237609   \n",
       "4 -1.158233  0.877737  1.548718  0.403034 -0.407193  0.095921  0.592941   \n",
       "5 -0.425966  0.960523  1.141109 -0.168252  0.420987 -0.029728  0.476201   \n",
       "6  1.229658  0.141004  0.045371  1.202613  0.191881  0.272708 -0.005159   \n",
       "7 -0.644269  1.417964  1.074380 -0.492199  0.948934  0.428118  1.120631   \n",
       "8 -0.894286  0.286157 -0.113192 -0.271526  2.669599  3.721818  0.370145   \n",
       "9 -0.338262  1.119593  1.044367 -0.222187  0.499361 -0.246761  0.651583   \n",
       "\n",
       "         V8        V9       V10  ...       V21       V22       V23       V24  \\\n",
       "0  0.098698  0.363787  0.090794  ... -0.018307  0.277838 -0.110474  0.066928   \n",
       "1  0.085102 -0.255425 -0.166974  ... -0.225775 -0.638672  0.101288 -0.339846   \n",
       "2  0.247676 -1.514654  0.207643  ...  0.247998  0.771679  0.909412 -0.689281   \n",
       "3  0.377436 -1.387024 -0.054952  ... -0.108300  0.005274 -0.190321 -1.175575   \n",
       "4 -0.270533  0.817739  0.753074  ... -0.009431  0.798278 -0.137458  0.141267   \n",
       "5  0.260314 -0.568671 -0.371407  ... -0.208254 -0.559825 -0.026398 -0.371427   \n",
       "6  0.081213  0.464960 -0.099254  ... -0.167716 -0.270710 -0.154104 -0.780055   \n",
       "7 -3.807864  0.615375  1.249376  ...  1.943465 -1.015455  0.057504 -0.649709   \n",
       "8  0.851084 -0.392048 -0.410430  ... -0.073425 -0.268092 -0.204233  1.011592   \n",
       "9  0.069539 -0.736727 -0.366846  ... -0.246914 -0.633753 -0.120794 -0.385050   \n",
       "\n",
       "        V25       V26       V27       V28    Amount  Class  \n",
       "0  0.128539 -0.189115  0.133558 -0.021053  0.244964      0  \n",
       "1  0.167170  0.125895 -0.008983  0.014724 -0.342475      0  \n",
       "2 -0.327642 -0.139097 -0.055353 -0.059752  1.160686      0  \n",
       "3  0.647376 -0.221929  0.062723  0.061458  0.140534      0  \n",
       "4 -0.206010  0.502292  0.219422  0.215153 -0.073403      0  \n",
       "5 -0.232794  0.105915  0.253844  0.081080 -0.338556      0  \n",
       "6  0.750137 -0.257237  0.034507  0.005168 -0.333279      0  \n",
       "7 -0.415267 -0.051634 -1.206921 -1.085339 -0.190107      0  \n",
       "8  0.373205 -0.384157  0.011747  0.142404  0.019392      0  \n",
       "9 -0.069733  0.094199  0.246219  0.083076 -0.338516      0  \n",
       "\n",
       "[10 rows x 30 columns]"
      ]
     },
     "execution_count": 3,
     "metadata": {},
     "output_type": "execute_result"
    }
   ],
   "source": [
    "# we drop the time column since it is not relevant for our task\n",
    "df = df.drop(['Time'], axis=1)\n",
    "df['Amount'] = StandardScaler().fit_transform(df['Amount'].values.reshape(-1, 1))\n",
    "df[:10]"
   ]
  },
  {
   "cell_type": "markdown",
   "metadata": {},
   "source": [
    "## Dataset splitting\n",
    "\n",
    "In this case, the dataset splitting is a little bit more complicated.\n",
    "\n",
    "In fact, we would like a training set which contains only normale sample; on the contrary, validation and test set contains both normal and fraudolent data."
   ]
  },
  {
   "cell_type": "code",
   "execution_count": 4,
   "metadata": {
    "pycharm": {
     "is_executing": false,
     "metadata": false,
     "name": "#%%\n"
    }
   },
   "outputs": [
    {
     "name": "stdout",
     "output_type": "stream",
     "text": [
      "Normal data-frame shape (284315, 30)\n",
      "Fraudolent data-frame shape (492, 30)\n"
     ]
    }
   ],
   "source": [
    "# since we would like to have fraudulent only in test, we use a differetn split\n",
    "#df_train, df_test = train_test_split(data, test_size=0.2, random_state=RANDOM_SEED)\n",
    "df_normal = df[df.Class == 0]\n",
    "df_fraudolent = df[df.Class == 1]\n",
    "print('Normal data-frame shape {}\\n'\n",
    "      'Fraudolent data-frame shape {}'.format(df_normal.shape, df_fraudolent.shape))"
   ]
  },
  {
   "cell_type": "code",
   "execution_count": 5,
   "metadata": {
    "pycharm": {
     "is_executing": false,
     "metadata": false,
     "name": "#%%\n"
    }
   },
   "outputs": [
    {
     "name": "stdout",
     "output_type": "stream",
     "text": [
      "Training data contains 225177 normal sample and 0 fraudolent sample.\n",
      "Validation data contains 2275 normal sample and 49 fraudolent sample.\n",
      "Test data contains 56863 normal sample and 443 fraudolent sample.\n"
     ]
    }
   ],
   "source": [
    "#split the normal and the fraudolent in train, validation and test\n",
    "df_norm_train_val, df_norm_test = train_test_split(df_normal, test_size=0.2, random_state=RANDOM_SEED)\n",
    "df_fraud_val, df_fraud_test = train_test_split(df_fraudolent, test_size=0.9, random_state=RANDOM_SEED)\n",
    "df_train, df_norm_val = train_test_split(df_norm_train_val, test_size=0.01, random_state=RANDOM_SEED)\n",
    "df_val = pd.concat([df_norm_val, df_fraud_val]).sample(frac=1, random_state=RANDOM_SEED)\n",
    "df_test = pd.concat([df_norm_test, df_fraud_test]).sample(frac=1, random_state=RANDOM_SEED)\n",
    "\n",
    "print('Training data contains {} normal sample and {} fraudolent sample.\\n'\n",
    "      'Validation data contains {} normal sample and {} fraudolent sample.\\n'\n",
    "      'Test data contains {} normal sample and {} fraudolent sample.'.format(df_train.shape[0], 0,\n",
    "                                                                            df_norm_val.shape[0], df_fraud_val.shape[0],\n",
    "                                                                            df_norm_test.shape[0], df_fraud_test.shape[0]))\n"
   ]
  },
  {
   "cell_type": "code",
   "execution_count": 6,
   "metadata": {
    "pycharm": {
     "is_executing": false,
     "metadata": false,
     "name": "#%%\n"
    }
   },
   "outputs": [
    {
     "name": "stdout",
     "output_type": "stream",
     "text": [
      "Training data shape is (225177, 29).\n"
     ]
    }
   ],
   "source": [
    "y_train = df_train['Class'].values\n",
    "x_train = df_train.drop(['Class'], axis=1).values\n",
    "\n",
    "y_test = df_test['Class'].values\n",
    "x_test = df_test.drop(['Class'], axis=1).values\n",
    "\n",
    "y_val = df_val['Class'].values\n",
    "x_val = df_val.drop(['Class'], axis=1).values\n",
    "\n",
    "print('Training data shape is {}.'.format(x_train.shape))"
   ]
  },
  {
   "cell_type": "markdown",
   "metadata": {},
   "source": [
    "## Define the model"
   ]
  },
  {
   "cell_type": "code",
   "execution_count": null,
   "metadata": {
    "pycharm": {
     "is_executing": false,
     "metadata": false,
     "name": "#%%\n"
    }
   },
   "outputs": [],
   "source": [
    "def create_model(encoding_dim=14, optimizer='adam'):\n",
    "    input_dim = x_train.shape[1]\n",
    "\n",
    "    autoencoder = Sequential()\n",
    "    # TODO: create a deep model \n",
    "    #encoder\n",
    "    autoencoder.add(Dense(encoding_dim, input_shape=(input_dim,), activation=\"tanh\"))\n",
    "    #decoder\n",
    "    autoencoder.add(Dense(input_dim, activation='relu'))\n",
    "\n",
    "    autoencoder.compile(optimizer=optimizer, \n",
    "                        loss='mean_squared_error',\n",
    "                        metrics=['mse'])\n",
    "    return autoencoder"
   ]
  },
  {
   "cell_type": "markdown",
   "metadata": {},
   "source": [
    "## Model Selection"
   ]
  },
  {
   "cell_type": "code",
   "execution_count": 7,
   "metadata": {
    "pycharm": {
     "is_executing": false,
     "metadata": false,
     "name": "#%%\n"
    }
   },
   "outputs": [
    {
     "name": "stdout",
     "output_type": "stream",
     "text": [
      "WARNING:tensorflow:From C:\\Users\\Daniele Castellana\\Miniconda3\\envs\\keras_env\\lib\\site-packages\\tensorflow\\python\\framework\\op_def_library.py:263: colocate_with (from tensorflow.python.framework.ops) is deprecated and will be removed in a future version.\n",
      "Instructions for updating:\n",
      "Colocations handled automatically by placer.\n",
      "WARNING:tensorflow:From C:\\Users\\Daniele Castellana\\Miniconda3\\envs\\keras_env\\lib\\site-packages\\tensorflow\\python\\ops\\math_ops.py:3066: to_int32 (from tensorflow.python.ops.math_ops) is deprecated and will be removed in a future version.\n",
      "Instructions for updating:\n",
      "Use tf.cast instead.\n",
      "Epoch 1/5\n",
      " - 3s - loss: 0.6366 - mean_squared_error: 0.6366\n",
      "Epoch 2/5\n",
      " - 3s - loss: 0.5838 - mean_squared_error: 0.5838\n",
      "Epoch 3/5\n",
      " - 3s - loss: 0.5754 - mean_squared_error: 0.5754\n",
      "Epoch 4/5\n",
      " - 3s - loss: 0.5721 - mean_squared_error: 0.5721\n",
      "Epoch 5/5\n",
      " - 4s - loss: 0.5704 - mean_squared_error: 0.5704\n",
      "75059/75059 [==============================] - 1s 12us/step\n",
      "Epoch 1/5\n",
      " - 4s - loss: 0.6406 - mean_squared_error: 0.6406\n",
      "Epoch 2/5\n",
      " - 3s - loss: 0.5834 - mean_squared_error: 0.5834\n",
      "Epoch 3/5\n",
      " - 3s - loss: 0.5762 - mean_squared_error: 0.5762\n",
      "Epoch 4/5\n",
      " - 3s - loss: 0.5731 - mean_squared_error: 0.5731\n",
      "Epoch 5/5\n",
      " - 4s - loss: 0.5713 - mean_squared_error: 0.5713\n",
      "75059/75059 [==============================] - 1s 10us/step\n",
      "Epoch 1/5\n",
      " - 4s - loss: 0.6497 - mean_squared_error: 0.6497\n",
      "Epoch 2/5\n",
      " - 3s - loss: 0.5923 - mean_squared_error: 0.5923\n",
      "Epoch 3/5\n",
      " - 3s - loss: 0.5852 - mean_squared_error: 0.5852\n",
      "Epoch 4/5\n",
      " - 3s - loss: 0.5819 - mean_squared_error: 0.5819\n",
      "Epoch 5/5\n",
      " - 3s - loss: 0.5799 - mean_squared_error: 0.5799\n",
      "75059/75059 [==============================] - 1s 11us/step\n",
      "Epoch 1/5\n",
      " - 4s - loss: 0.6487 - mean_squared_error: 0.6487\n",
      "Epoch 2/5\n",
      " - 4s - loss: 0.5857 - mean_squared_error: 0.5857\n",
      "Epoch 3/5\n",
      " - 3s - loss: 0.5783 - mean_squared_error: 0.5783\n",
      "Epoch 4/5\n",
      " - 3s - loss: 0.5752 - mean_squared_error: 0.5752\n",
      "Epoch 5/5\n",
      " - 3s - loss: 0.5738 - mean_squared_error: 0.5738\n",
      "75059/75059 [==============================] - 1s 11us/step\n",
      "Epoch 1/5\n",
      " - 4s - loss: 0.6479 - mean_squared_error: 0.6479\n",
      "Epoch 2/5\n",
      " - 3s - loss: 0.5891 - mean_squared_error: 0.5891\n",
      "Epoch 3/5\n",
      " - 3s - loss: 0.5826 - mean_squared_error: 0.5826\n",
      "Epoch 4/5\n",
      " - 3s - loss: 0.5791 - mean_squared_error: 0.5791\n",
      "Epoch 5/5\n",
      " - 3s - loss: 0.5777 - mean_squared_error: 0.5777\n",
      "75059/75059 [==============================] - 1s 13us/step\n",
      "Epoch 1/5\n",
      " - 4s - loss: 0.6605 - mean_squared_error: 0.6605\n",
      "Epoch 2/5\n",
      " - 4s - loss: 0.5952 - mean_squared_error: 0.5952\n",
      "Epoch 3/5\n",
      " - 4s - loss: 0.5860 - mean_squared_error: 0.5860\n",
      "Epoch 4/5\n",
      " - 3s - loss: 0.5822 - mean_squared_error: 0.5822\n",
      "Epoch 5/5\n",
      " - 3s - loss: 0.5800 - mean_squared_error: 0.5800\n",
      "75059/75059 [==============================] - 1s 12us/step\n",
      "Epoch 1/5\n",
      " - 4s - loss: 0.7399 - mean_squared_error: 0.7399\n",
      "Epoch 2/5\n",
      " - 4s - loss: 0.6808 - mean_squared_error: 0.6808\n",
      "Epoch 3/5\n",
      " - 3s - loss: 0.6722 - mean_squared_error: 0.6722\n",
      "Epoch 4/5\n",
      " - 3s - loss: 0.6682 - mean_squared_error: 0.6682\n",
      "Epoch 5/5\n",
      " - 3s - loss: 0.6648 - mean_squared_error: 0.6648\n",
      "75059/75059 [==============================] - 1s 12us/step\n",
      "Epoch 1/5\n",
      " - 4s - loss: 0.7430 - mean_squared_error: 0.7430\n",
      "Epoch 2/5\n",
      " - 3s - loss: 0.6838 - mean_squared_error: 0.6838\n",
      "Epoch 3/5\n",
      " - 3s - loss: 0.6749 - mean_squared_error: 0.6749\n",
      "Epoch 4/5\n",
      " - 3s - loss: 0.6707 - mean_squared_error: 0.6707\n",
      "Epoch 5/5\n",
      " - 3s - loss: 0.6677 - mean_squared_error: 0.6677\n",
      "75059/75059 [==============================] - 1s 13us/step\n",
      "Epoch 1/5\n",
      " - 4s - loss: 0.7624 - mean_squared_error: 0.7624\n",
      "Epoch 2/5\n",
      " - 3s - loss: 0.7013 - mean_squared_error: 0.7013\n",
      "Epoch 3/5\n",
      " - 3s - loss: 0.6919 - mean_squared_error: 0.6919\n",
      "Epoch 4/5\n",
      " - 3s - loss: 0.6855 - mean_squared_error: 0.6855\n",
      "Epoch 5/5\n",
      " - 3s - loss: 0.6826 - mean_squared_error: 0.6826\n",
      "75059/75059 [==============================] - 1s 12us/step\n",
      "Epoch 1/5\n",
      " - 4s - loss: 0.7446 - mean_squared_error: 0.7446\n",
      "Epoch 2/5\n",
      " - 4s - loss: 0.6799 - mean_squared_error: 0.6799\n",
      "Epoch 3/5\n",
      " - 4s - loss: 0.6700 - mean_squared_error: 0.6700\n",
      "Epoch 4/5\n",
      " - 4s - loss: 0.6659 - mean_squared_error: 0.6659\n",
      "Epoch 5/5\n",
      " - 4s - loss: 0.6637 - mean_squared_error: 0.6637\n",
      "75059/75059 [==============================] - 1s 15us/step\n",
      "Epoch 1/5\n",
      " - 4s - loss: 0.7539 - mean_squared_error: 0.7539\n",
      "Epoch 2/5\n",
      " - 4s - loss: 0.6834 - mean_squared_error: 0.6834\n",
      "Epoch 3/5\n",
      " - 4s - loss: 0.6709 - mean_squared_error: 0.6709\n",
      "Epoch 4/5\n",
      " - 4s - loss: 0.6658 - mean_squared_error: 0.6658\n",
      "Epoch 5/5\n",
      " - 4s - loss: 0.6628 - mean_squared_error: 0.6628\n",
      "75059/75059 [==============================] - 1s 13us/step\n",
      "Epoch 1/5\n",
      " - 4s - loss: 0.7652 - mean_squared_error: 0.7652\n",
      "Epoch 2/5\n",
      " - 4s - loss: 0.7043 - mean_squared_error: 0.7043\n",
      "Epoch 3/5\n",
      " - 4s - loss: 0.6945 - mean_squared_error: 0.6945\n",
      "Epoch 4/5\n",
      " - 4s - loss: 0.6902 - mean_squared_error: 0.6902\n",
      "Epoch 5/5\n",
      " - 4s - loss: 0.6864 - mean_squared_error: 0.6864\n",
      "75059/75059 [==============================] - 1s 15us/step\n",
      "Epoch 1/5\n",
      " - 6s - loss: 0.6322 - mean_squared_error: 0.6322\n",
      "Epoch 2/5\n",
      " - 6s - loss: 0.5842 - mean_squared_error: 0.5842\n",
      "Epoch 3/5\n",
      " - 6s - loss: 0.5786 - mean_squared_error: 0.5786\n",
      "Epoch 4/5\n",
      " - 6s - loss: 0.5761 - mean_squared_error: 0.5761\n",
      "Epoch 5/5\n",
      " - 7s - loss: 0.5746 - mean_squared_error: 0.5746\n"
     ]
    }
   ],
   "source": [
    "# grid search epochs, batch size and optimizer\n",
    "# TODO: can we do a best validation?\n",
    "optimizers = ['rmsprop', 'adam']\n",
    "encoding_dim = [20, 10]\n",
    "\n",
    "param_grid = dict(optimizer=optimizers, encoding_dim=encoding_dim)\n",
    "model = KerasRegressor(build_fn=create_model, verbose=1)\n",
    "grid = GridSearchCV(estimator=model, param_grid=param_grid, cv=3)\n",
    "#TODO: use early stopping\n",
    "grid_result = grid.fit(x_train, x_train, epochs=5, batch_size=32, verbose=2)"
   ]
  },
  {
   "cell_type": "code",
   "execution_count": 8,
   "metadata": {},
   "outputs": [
    {
     "name": "stdout",
     "output_type": "stream",
     "text": [
      "Best: 0.573526 using {'encoding_dim': 20, 'optimizer': 'rmsprop'}\n",
      "0.573526 (0.010662) with: {'encoding_dim': 20, 'optimizer': 'rmsprop'}\n",
      "0.575851 (0.012927) with: {'encoding_dim': 20, 'optimizer': 'adam'}\n",
      "0.670143 (0.009162) with: {'encoding_dim': 10, 'optimizer': 'rmsprop'}\n",
      "0.669375 (0.005826) with: {'encoding_dim': 10, 'optimizer': 'adam'}\n"
     ]
    }
   ],
   "source": [
    "# summarize results\n",
    "print(\"Best: %f using %s\" % (-grid_result.best_score_, grid_result.best_params_))\n",
    "means = grid_result.cv_results_['mean_test_score']\n",
    "stds = grid_result.cv_results_['std_test_score']\n",
    "params = grid_result.cv_results_['params']\n",
    "for mean, stdev, param in zip(means, stds, params):\n",
    "    print(\"%f (%f) with: %r\" % (-mean, stdev, param))\n"
   ]
  },
  {
   "cell_type": "markdown",
   "metadata": {},
   "source": [
    "## Plot results on the validation set\n",
    "\n",
    "In this case, we use the function **.predict()** to obtain the prediction of the model rather than the prediction errorr (which is obtained using the function **.evaluate()**). "
   ]
  },
  {
   "cell_type": "code",
   "execution_count": 9,
   "metadata": {},
   "outputs": [
    {
     "data": {
      "image/png": "[encoded data removed]",
      "text/plain": [
       "<Figure size 432x288 with 1 Axes>"
      ]
     },
     "metadata": {
      "needs_background": "light"
     },
     "output_type": "display_data"
    }
   ],
   "source": [
    "#get the best autoencoder.\n",
    "best_autoencoder = grid_result.best_estimator_.model\n",
    "\n",
    "# plot reconstruction error on the validation set\n",
    "x_val_rec = best_autoencoder.predict(x_val)\n",
    "\n",
    "mse_val = np.mean(np.power(x_val - x_val_rec, 2), axis=1)\n",
    "\n",
    "val_pred_df = pd.DataFrame({'reconstruction_error': mse_val, 'true_class': y_val})\n",
    "\n",
    "groups = val_pred_df.groupby('true_class')\n",
    "fig, ax = plt.subplots()\n",
    "\n",
    "for name, group in groups:\n",
    "    ax.plot(group.index, group.reconstruction_error, marker='o', ms=3.5, linestyle='',\n",
    "            label= \"Fraud\" if name == 1 else \"Normal\")\n",
    "#ax.hlines(threshold, ax.get_xlim()[0], ax.get_xlim()[1], colors=\"r\", zorder=100, label='Threshold')\n",
    "ax.legend()\n",
    "plt.title(\"Reconstruction error for different classes\")\n",
    "plt.ylabel(\"Reconstruction error\")\n",
    "plt.xlabel(\"Data point index\")\n",
    "plt.show();\n"
   ]
  },
  {
   "cell_type": "markdown",
   "metadata": {},
   "source": [
    "## Choose the right threshold\n",
    "\n",
    "We **must** use the validation set in order to select the most suitable threshold."
   ]
  },
  {
   "cell_type": "code",
   "execution_count": 10,
   "metadata": {},
   "outputs": [],
   "source": [
    "from sklearn.metrics import confusion_matrix\n",
    "import seaborn as sns"
   ]
  },
  {
   "cell_type": "code",
   "execution_count": 11,
   "metadata": {},
   "outputs": [
    {
     "data": {
      "image/png": "[encoded data removed]",
      "text/plain": [
       "<Figure size 864x864 with 2 Axes>"
      ]
     },
     "metadata": {
      "needs_background": "light"
     },
     "output_type": "display_data"
    }
   ],
   "source": [
    "threshold = 2\n",
    "y_val_pred = [1 if e > threshold else 0 for e in mse_val]\n",
    "conf_matrix = confusion_matrix(y_val, y_val_pred)\n",
    "\n",
    "plt.figure(figsize=(12, 12))\n",
    "sns.heatmap(conf_matrix, xticklabels=LABELS, yticklabels=LABELS, annot=True, fmt=\"d\");\n",
    "#plt.matshow(conf_matrix)\n",
    "plt.title(\"Confusion matrix on validation set\")\n",
    "plt.ylabel('True class')\n",
    "plt.xlabel('Predicted class')\n",
    "plt.show()"
   ]
  },
  {
   "cell_type": "markdown",
   "metadata": {},
   "source": [
    "## Evaluate the model on the test set"
   ]
  },
  {
   "cell_type": "code",
   "execution_count": 12,
   "metadata": {},
   "outputs": [
    {
     "data": {
      "image/png": "[encoded data removed]",
      "text/plain": [
       "<Figure size 864x864 with 2 Axes>"
      ]
     },
     "metadata": {
      "needs_background": "light"
     },
     "output_type": "display_data"
    }
   ],
   "source": [
    "x_test_rec = best_autoencoder.predict(x_test)\n",
    "\n",
    "mse_test = np.mean(np.power(x_test - x_test_rec, 2), axis=1)\n",
    "y_test_pred = [1 if e > threshold else 0 for e in mse_test]\n",
    "conf_matrix = confusion_matrix(y_test, y_test_pred)\n",
    "\n",
    "\n",
    "plt.figure(figsize=(12, 12))\n",
    "sns.heatmap(conf_matrix, xticklabels=LABELS, yticklabels=LABELS, annot=True, fmt=\"d\");\n",
    "#plt.matshow(conf_matrix)\n",
    "plt.title(\"Confusion matrix on validation set\")\n",
    "plt.ylabel('True class')\n",
    "plt.xlabel('Predicted class')\n",
    "plt.show()"
   ]
  },
  {
   "cell_type": "code",
   "execution_count": null,
   "metadata": {},
   "outputs": [],
   "source": []
  }
 ],
 "metadata": {
  "kernelspec": {
   "display_name": "Python 3",
   "language": "python",
   "name": "python3"
  },
  "language_info": {
   "codemirror_mode": {
    "name": "ipython",
    "version": 3
   },
   "file_extension": ".py",
   "mimetype": "text/x-python",
   "name": "python",
   "nbconvert_exporter": "python",
   "pygments_lexer": "ipython3",
   "version": "3.6.8"
  }
 },
 "nbformat": 4,
 "nbformat_minor": 1
}
