{
 "cells": [
  {
   "cell_type": "code",
   "execution_count": 1,
   "metadata": {},
   "outputs": [
    {
     "name": "stderr",
     "output_type": "stream",
     "text": [
      "Using TensorFlow backend.\n"
     ]
    }
   ],
   "source": [
    "import keras\n",
    "from keras.models import Sequential\n",
    "from keras.layers import Dense, Dropout, Activation\n",
    "from keras import optimizers\n",
    "from keras.datasets import mnist"
   ]
  },
  {
   "cell_type": "code",
   "execution_count": 2,
   "metadata": {},
   "outputs": [
    {
     "name": "stdout",
     "output_type": "stream",
     "text": [
      "60000 train samples\n",
      "10000 test samples\n"
     ]
    }
   ],
   "source": [
    "batch_size = 128\n",
    "num_classes = 10\n",
    "epochs = 20\n",
    "\n",
    "# the data, split between train and test sets\n",
    "(x_train, y_train), (x_test, y_test) = mnist.load_data()\n",
    "\n",
    "x_train = x_train.reshape(60000, 784)\n",
    "x_test = x_test.reshape(10000, 784)\n",
    "x_train = x_train.astype('float32')\n",
    "x_test = x_test.astype('float32')\n",
    "x_train /= 255\n",
    "x_test /= 255\n",
    "print(x_train.shape[0], 'train samples')\n",
    "print(x_test.shape[0], 'test samples')\n",
    "\n",
    "# convert class vectors to binary class matrices\n",
    "y_train = keras.utils.to_categorical(y_train, num_classes)\n",
    "y_test = keras.utils.to_categorical(y_test, num_classes)"
   ]
  },
  {
   "cell_type": "code",
   "execution_count": 3,
   "metadata": {},
   "outputs": [
    {
     "name": "stdout",
     "output_type": "stream",
     "text": [
      "WARNING:tensorflow:From /usr/lib/python3.6/site-packages/tensorflow/python/framework/op_def_library.py:263: colocate_with (from tensorflow.python.framework.ops) is deprecated and will be removed in a future version.\n",
      "Instructions for updating:\n",
      "Colocations handled automatically by placer.\n",
      "WARNING:tensorflow:From /usr/lib64/python3.6/site-packages/keras/backend/tensorflow_backend.py:3445: calling dropout (from tensorflow.python.ops.nn_ops) with keep_prob is deprecated and will be removed in a future version.\n",
      "Instructions for updating:\n",
      "Please use `rate` instead of `keep_prob`. Rate should be set to `rate = 1 - keep_prob`.\n",
      "_________________________________________________________________\n",
      "Layer (type)                 Output Shape              Param #   \n",
      "=================================================================\n",
      "dense_1 (Dense)              (None, 512)               401920    \n",
      "_________________________________________________________________\n",
      "dropout_1 (Dropout)          (None, 512)               0         \n",
      "_________________________________________________________________\n",
      "dense_2 (Dense)              (None, 512)               262656    \n",
      "_________________________________________________________________\n",
      "dropout_2 (Dropout)          (None, 512)               0         \n",
      "_________________________________________________________________\n",
      "dense_3 (Dense)              (None, 10)                5130      \n",
      "=================================================================\n",
      "Total params: 669,706\n",
      "Trainable params: 669,706\n",
      "Non-trainable params: 0\n",
      "_________________________________________________________________\n"
     ]
    }
   ],
   "source": [
    "#Define the model architecture\n",
    "model = Sequential()\n",
    "model.add(Dense(512, activation='relu', input_shape=(784,)))\n",
    "model.add(Dropout(0.2))\n",
    "model.add(Dense(512, activation='relu'))\n",
    "model.add(Dropout(0.2))\n",
    "model.add(Dense(num_classes, activation='softmax'))\n",
    "#Display a textual summary of the architecture\n",
    "model.summary()"
   ]
  },
  {
   "cell_type": "code",
   "execution_count": 4,
   "metadata": {},
   "outputs": [],
   "source": [
    "#Define the optimizer\n",
    "opt = optimizers.SGD(lr=0.01, decay=1e-6, momentum=0.9, nesterov=True)\n",
    "#Alternative optimizers\n",
    "#opt = optimizers.RMSprop(lr=0.001, rho=0.9, epsilon=None, decay=0.0)\n",
    "#opt = optimizers.Adam(lr=0.001, beta_1=0.9, beta_2=0.999, epsilon=None, decay=0.0, amsgrad=False)\n",
    "\n",
    "#Compile the model given the structure, the optimizer and the loss\n",
    "model.compile(loss='categorical_crossentropy',\n",
    "              optimizer=opt,\n",
    "              metrics=['accuracy'])\n"
   ]
  },
  {
   "cell_type": "code",
   "execution_count": 5,
   "metadata": {},
   "outputs": [
    {
     "name": "stdout",
     "output_type": "stream",
     "text": [
      "WARNING:tensorflow:From /usr/lib/python3.6/site-packages/tensorflow/python/ops/math_ops.py:3066: to_int32 (from tensorflow.python.ops.math_ops) is deprecated and will be removed in a future version.\n",
      "Instructions for updating:\n",
      "Use tf.cast instead.\n",
      "Train on 60000 samples, validate on 10000 samples\n",
      "Epoch 1/20\n",
      "60000/60000 [==============================] - 16s 274us/step - loss: 0.4752 - acc: 0.8630 - val_loss: 0.2188 - val_acc: 0.9359\n",
      "Epoch 2/20\n",
      "60000/60000 [==============================] - 16s 261us/step - loss: 0.2191 - acc: 0.9362 - val_loss: 0.1528 - val_acc: 0.9565\n",
      "Epoch 3/20\n",
      "60000/60000 [==============================] - 15s 252us/step - loss: 0.1625 - acc: 0.9528 - val_loss: 0.1241 - val_acc: 0.9628\n",
      "Epoch 4/20\n",
      "60000/60000 [==============================] - 14s 231us/step - loss: 0.1317 - acc: 0.9611 - val_loss: 0.1066 - val_acc: 0.9683\n",
      "Epoch 5/20\n",
      "60000/60000 [==============================] - 14s 237us/step - loss: 0.1104 - acc: 0.9677 - val_loss: 0.0920 - val_acc: 0.9715\n",
      "Epoch 6/20\n",
      "60000/60000 [==============================] - 15s 247us/step - loss: 0.0950 - acc: 0.9721 - val_loss: 0.0840 - val_acc: 0.9735\n",
      "Epoch 7/20\n",
      "60000/60000 [==============================] - 13s 221us/step - loss: 0.0836 - acc: 0.9756 - val_loss: 0.0762 - val_acc: 0.9759\n",
      "Epoch 8/20\n",
      "60000/60000 [==============================] - 15s 251us/step - loss: 0.0740 - acc: 0.9774 - val_loss: 0.0752 - val_acc: 0.9757\n",
      "Epoch 9/20\n",
      "60000/60000 [==============================] - 15s 244us/step - loss: 0.0673 - acc: 0.9796 - val_loss: 0.0685 - val_acc: 0.9780\n",
      "Epoch 10/20\n",
      "60000/60000 [==============================] - 15s 245us/step - loss: 0.0610 - acc: 0.9820 - val_loss: 0.0696 - val_acc: 0.9776\n",
      "Epoch 11/20\n",
      "60000/60000 [==============================] - 16s 262us/step - loss: 0.0560 - acc: 0.9833 - val_loss: 0.0654 - val_acc: 0.9784\n",
      "Epoch 12/20\n",
      "60000/60000 [==============================] - 15s 247us/step - loss: 0.0500 - acc: 0.9848 - val_loss: 0.0646 - val_acc: 0.9792\n",
      "Epoch 13/20\n",
      "60000/60000 [==============================] - 15s 242us/step - loss: 0.0471 - acc: 0.9855 - val_loss: 0.0609 - val_acc: 0.9795\n",
      "Epoch 14/20\n",
      "60000/60000 [==============================] - 15s 256us/step - loss: 0.0430 - acc: 0.9868 - val_loss: 0.0584 - val_acc: 0.9808\n",
      "Epoch 15/20\n",
      "60000/60000 [==============================] - 15s 250us/step - loss: 0.0393 - acc: 0.9883 - val_loss: 0.0568 - val_acc: 0.9817\n",
      "Epoch 16/20\n",
      "60000/60000 [==============================] - 15s 249us/step - loss: 0.0363 - acc: 0.9891 - val_loss: 0.0578 - val_acc: 0.9813\n",
      "Epoch 17/20\n",
      "60000/60000 [==============================] - 13s 224us/step - loss: 0.0330 - acc: 0.9903 - val_loss: 0.0558 - val_acc: 0.9821\n",
      "Epoch 18/20\n",
      "60000/60000 [==============================] - 15s 249us/step - loss: 0.0314 - acc: 0.9905 - val_loss: 0.0593 - val_acc: 0.9821\n",
      "Epoch 19/20\n",
      "60000/60000 [==============================] - 15s 243us/step - loss: 0.0296 - acc: 0.9912 - val_loss: 0.0570 - val_acc: 0.9808\n",
      "Epoch 20/20\n",
      "60000/60000 [==============================] - 15s 248us/step - loss: 0.0269 - acc: 0.9919 - val_loss: 0.0559 - val_acc: 0.9816\n"
     ]
    }
   ],
   "source": [
    "history = model.fit(x_train, y_train,\n",
    "                    batch_size=batch_size,\n",
    "                    epochs=epochs,\n",
    "                    verbose=1,\n",
    "                    validation_data=(x_test, y_test))"
   ]
  },
  {
   "cell_type": "code",
   "execution_count": 6,
   "metadata": {},
   "outputs": [],
   "source": [
    "score = model.evaluate(x_test, y_test, verbose=0)"
   ]
  },
  {
   "cell_type": "code",
   "execution_count": 7,
   "metadata": {},
   "outputs": [
    {
     "name": "stdout",
     "output_type": "stream",
     "text": [
      "Test loss: 0.05592201908439747\n",
      "Test accuracy: 0.9816\n"
     ]
    }
   ],
   "source": [
    "print('Test loss:', score[0])\n",
    "print('Test accuracy:', score[1])"
   ]
  },
  {
   "cell_type": "code",
   "execution_count": null,
   "metadata": {},
   "outputs": [],
   "source": []
  }
 ],
 "metadata": {
  "kernelspec": {
   "display_name": "Python 3",
   "language": "python",
   "name": "python3"
  },
  "language_info": {
   "codemirror_mode": {
    "name": "ipython",
    "version": 3
   },
   "file_extension": ".py",
   "mimetype": "text/x-python",
   "name": "python",
   "nbconvert_exporter": "python",
   "pygments_lexer": "ipython3",
   "version": "3.6.7"
  }
 },
 "nbformat": 4,
 "nbformat_minor": 2
}
