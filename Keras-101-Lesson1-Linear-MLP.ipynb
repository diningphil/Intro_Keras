{
 "cells": [
  {
   "cell_type": "markdown",
   "metadata": {},
   "source": [
    "# Keras 101 - Linear Model on MNIST"
   ]
  },
  {
   "cell_type": "markdown",
   "metadata": {},
   "source": [
    "In this Notebook, we will program simple Keras examples using the Sequential API."
   ]
  },
  {
   "cell_type": "markdown",
   "metadata": {},
   "source": [
    "## Import the relevant libraries"
   ]
  },
  {
   "cell_type": "code",
   "execution_count": 6,
   "metadata": {},
   "outputs": [],
   "source": [
    "# Utility libraries\n",
    "import os\n",
    "import random\n",
    "from datetime import datetime\n",
    "\n",
    "# Core libraries\n",
    "import numpy as np\n",
    "import tensorflow as tf\n",
    "\n",
    "from tensorflow.keras.datasets import mnist\n",
    "from tensorflow.keras.models import Sequential\n",
    "from tensorflow.keras.layers import Dense, Softmax\n",
    "from tensorflow.keras import regularizers\n",
    "from tensorflow.keras import metrics\n",
    "from tensorflow.keras import losses\n",
    "from tensorflow.keras import optimizers\n",
    "\n",
    "import matplotlib.pyplot as plt # For plotting purposes\n",
    "\n",
    "\n",
    "# Bug still not solved, resort to old keras module (see below)\n",
    "# from tensorflow.keras.callbacks import ModelCheckpoint, TensorBoard\n",
    "\n",
    "# Use the above import when the bug is solved\n",
    "import keras\n",
    "from keras.callbacks import ModelCheckpoint\n",
    "from keras.callbacks import TensorBoard\n",
    "# ------------------------------------------#"
   ]
  },
  {
   "cell_type": "code",
   "execution_count": 7,
   "metadata": {},
   "outputs": [
    {
     "name": "stdout",
     "output_type": "stream",
     "text": [
      "The tensorboard extension is already loaded. To reload it, use:\n",
      "  %reload_ext tensorboard\n"
     ]
    }
   ],
   "source": [
    "# Load the TensorBoard notebook extension (for visualization purposes)\n",
    "%load_ext tensorboard"
   ]
  },
  {
   "cell_type": "markdown",
   "metadata": {},
   "source": [
    "## MNIST Data Loading and Preprocessing"
   ]
  },
  {
   "cell_type": "code",
   "execution_count": 8,
   "metadata": {},
   "outputs": [],
   "source": [
    "# Each MNIST image has shape (28,28)\n",
    "mnist_img_rows, mnist_img_cols = 28, 28\n",
    "dim_target = 10\n",
    "\n",
    "# Load the MNIST dataset, which has already been splitted into training and test set\n",
    "(mnist_train, mnist_y_train), (x_test, y_test) = mnist.load_data()"
   ]
  },
  {
   "cell_type": "markdown",
   "metadata": {},
   "source": [
    "### What is the shape of our data?"
   ]
  },
  {
   "cell_type": "code",
   "execution_count": 9,
   "metadata": {},
   "outputs": [
    {
     "name": "stdout",
     "output_type": "stream",
     "text": [
      "Training set has 60000 examples of (28, 28) features each value\n",
      "Training targets have shape (60000,) i.e. we will predict a constant target value for each example\n",
      "\n",
      "Test set has 10000 examples of (28, 28) features each value\n",
      "Test targets have shape (10000,) i.e. we will predict a constant target value for each example\n",
      "\n",
      "Examples have type uint8, targets have type uint8\n"
     ]
    }
   ],
   "source": [
    "print(f'Training set has {mnist_train.shape[0]} examples of {mnist_train.shape[1:]} features each value')\n",
    "print(f'Training targets have shape {mnist_y_train.shape} i.e. we will predict a constant target value for each example')\n",
    "print('')\n",
    "print(f'Test set has {x_test.shape[0]} examples of {x_test.shape[1:]} features each value')\n",
    "print(f'Test targets have shape {y_test.shape} i.e. we will predict a constant target value for each example')\n",
    "print('')\n",
    "print(f'Examples have type {mnist_train.dtype}, targets have type {mnist_y_train.dtype}')"
   ]
  },
  {
   "cell_type": "markdown",
   "metadata": {},
   "source": [
    "## Extract a validation set from the training set (the Pythonic way)"
   ]
  },
  {
   "cell_type": "markdown",
   "metadata": {},
   "source": [
    "Alternatively, you can use scikit-learn when working with NumPy matrices. Use the ``sklearn.model_selection.train_test_split`` function (that you can use to extract a train/test split from the whole dataset and a validation set from the train set) or the ``sklearn.model_selection.KFold`` function for k-fold (external or internal) cross validation. **Remember: external cross validation is used for model assessment (average of k performances on unseen TEST data), whereas internal cross validation is used for model selection (average of k performances on VALIDATION data to select the best configuration)**"
   ]
  },
  {
   "cell_type": "code",
   "execution_count": 10,
   "metadata": {},
   "outputs": [],
   "source": [
    "def extract_subset(x_dataset, y_dataset, subset_percentage=10):\n",
    "    # Choose a seed to obtain the same split\n",
    "    random.seed(42)\n",
    "    \n",
    "    no_samples = x_dataset.shape[0]\n",
    "\n",
    "    # Generate a list of indices\n",
    "    indices = [i for i in range(no_samples)]\n",
    "\n",
    "    # We want the x% of the training set to be used as a validation set\n",
    "    no_subset_samples = int((no_samples/100)*subset_percentage)\n",
    "\n",
    "    # In place shuffling of the data structure\n",
    "    random.shuffle(indices)\n",
    "\n",
    "    # Display the indices\n",
    "    # print(f'Validation indices are: {indices[:no_subset_samples]}')\n",
    "\n",
    "    # The subset will correspond to the first \"no_subset_samples\" shuffled indices\n",
    "    x_subset = x_dataset[indices[:no_subset_samples], :]\n",
    "    y_subset = y_dataset[indices[:no_subset_samples]]\n",
    "\n",
    "    # The rest of the data will correspond to other shuffled indices\n",
    "    new_x_dataset = x_dataset[indices[no_subset_samples:], :]\n",
    "    new_y_dataset = y_dataset[indices[no_subset_samples:]]\n",
    "    \n",
    "    return (new_x_dataset, new_y_dataset), (x_subset, y_subset)"
   ]
  },
  {
   "cell_type": "code",
   "execution_count": 11,
   "metadata": {},
   "outputs": [],
   "source": [
    "# Extract a validation set from the TRAINING set.\n",
    "# You can also use this function to split you entire dataset into training, validation and test sets when these are not given.\n",
    "(x_train, y_train), (x_valid, y_valid) = extract_subset(mnist_train, mnist_y_train, subset_percentage=10)"
   ]
  },
  {
   "cell_type": "code",
   "execution_count": 12,
   "metadata": {},
   "outputs": [],
   "source": [
    "x_train = x_train.reshape(x_train.shape[0], -1).astype('float32') / 255\n",
    "x_valid = x_valid.reshape(x_valid.shape[0], -1).astype('float32') / 255\n",
    "x_test = x_test.reshape(x_test.shape[0], -1).astype('float32') / 255"
   ]
  },
  {
   "cell_type": "code",
   "execution_count": 13,
   "metadata": {},
   "outputs": [
    {
     "name": "stdout",
     "output_type": "stream",
     "text": [
      "The associated target label is 3\n"
     ]
    },
    {
     "data": {
      "image/png": "[encoded data removed]",
      "text/plain": [
       "<Figure size 432x288 with 1 Axes>"
      ]
     },
     "metadata": {
      "needs_background": "light"
     },
     "output_type": "display_data"
    }
   ],
   "source": [
    "plt.imshow(x_train[0].reshape(mnist_img_rows, mnist_img_cols), cmap='gray')\n",
    "print(f'The associated target label is {y_train[0]}')"
   ]
  },
  {
   "cell_type": "markdown",
   "metadata": {},
   "source": [
    "## First define the hyper-parameters of the model\n",
    "### Later, we can try to do model selection via random search on hyper-parameters ranges"
   ]
  },
  {
   "cell_type": "code",
   "execution_count": 14,
   "metadata": {},
   "outputs": [],
   "source": [
    "# Hyper-parameters of the model\n",
    "l1_regularization = 0.  # L1 regularization to be applied to the weight matrix W\n",
    "l2_regularization = 1e-5  # L2 regularization to be applied to the weight matrix W\n",
    "learning_rate = 1e-3  # Learning rate\n",
    "batch_size = 64  # Mini-batch training for stochastic gradient descent\n",
    "no_epochs = 20  # Maximum number of epochs to train the model"
   ]
  },
  {
   "cell_type": "markdown",
   "metadata": {},
   "source": [
    "## Construct a Linear model"
   ]
  },
  {
   "cell_type": "code",
   "execution_count": 15,
   "metadata": {},
   "outputs": [],
   "source": [
    "# We will define a linear model with the Sequential API\n",
    "linear = Sequential()\n",
    "\n",
    "# Let's add the connection between input and output\n",
    "linear.add(Dense(units=dim_target,  # depends on the task at hand\n",
    "                 activation='linear',  # the identiy mapping (no need to use non-linearities here, it's a linear model!)\n",
    "                 use_bias=True,  # we want to implement Wx + b where b is the bias\n",
    "                 kernel_regularizer=regularizers.l1_l2(l1=l1_regularization, l2=l2_regularization)  # Regularizes the weight matrix W                 \n",
    "                 ))"
   ]
  },
  {
   "cell_type": "markdown",
   "metadata": {},
   "source": [
    "## Prepare the model for training"
   ]
  },
  {
   "cell_type": "code",
   "execution_count": 16,
   "metadata": {},
   "outputs": [],
   "source": [
    "linear.compile(optimizer=optimizers.SGD(lr=learning_rate),  # Optimizer\n",
    "              # Loss function to minimize\n",
    "              loss=losses.SparseCategoricalCrossentropy(from_logits=True),  # Sparse will convert categorical labels for us in one-hot form!\n",
    "              # List of metrics to monitor\n",
    "              metrics=[metrics.sparse_categorical_accuracy])"
   ]
  },
  {
   "cell_type": "code",
   "execution_count": 17,
   "metadata": {},
   "outputs": [
    {
     "name": "stdout",
     "output_type": "stream",
     "text": [
      "# Fit model on training data\n",
      "Train on 54000 samples, validate on 6000 samples\n",
      "Epoch 1/20\n",
      "52160/54000 [===========================>..] - ETA: 0s - loss: 2.0234 - sparse_categorical_accuracy: 0.3490\n",
      "Epoch 00001: val_sparse_categorical_accuracy improved from -inf to 0.59767, saving model to /Users/diningphil/git/Intro_Keras/checkpoints/linear/cp.ckpt\n",
      "WARNING:tensorflow:From /Users/diningphil/miniconda3/lib/python3.7/site-packages/tensorflow_core/python/ops/resource_variable_ops.py:1786: calling BaseResourceVariable.__init__ (from tensorflow.python.ops.resource_variable_ops) with constraint is deprecated and will be removed in a future version.\n",
      "Instructions for updating:\n",
      "If using Keras pass *_constraint arguments to layers.\n",
      "INFO:tensorflow:Assets written to: /Users/diningphil/git/Intro_Keras/checkpoints/linear/cp.ckpt/assets\n",
      "54000/54000 [==============================] - 2s 41us/sample - loss: 2.0131 - sparse_categorical_accuracy: 0.3572 - val_loss: 1.7013 - val_sparse_categorical_accuracy: 0.5977\n",
      "Epoch 2/20\n",
      "52160/54000 [===========================>..] - ETA: 0s - loss: 1.5071 - sparse_categorical_accuracy: 0.6729\n",
      "Epoch 00002: val_sparse_categorical_accuracy improved from 0.59767 to 0.72050, saving model to /Users/diningphil/git/Intro_Keras/checkpoints/linear/cp.ckpt\n",
      "INFO:tensorflow:Assets written to: /Users/diningphil/git/Intro_Keras/checkpoints/linear/cp.ckpt/assets\n",
      "54000/54000 [==============================] - 2s 31us/sample - loss: 1.5009 - sparse_categorical_accuracy: 0.6746 - val_loss: 1.3313 - val_sparse_categorical_accuracy: 0.7205\n",
      "Epoch 3/20\n",
      "53504/54000 [============================>.] - ETA: 0s - loss: 1.2166 - sparse_categorical_accuracy: 0.7506\n",
      "Epoch 00003: val_sparse_categorical_accuracy improved from 0.72050 to 0.77017, saving model to /Users/diningphil/git/Intro_Keras/checkpoints/linear/cp.ckpt\n",
      "INFO:tensorflow:Assets written to: /Users/diningphil/git/Intro_Keras/checkpoints/linear/cp.ckpt/assets\n",
      "54000/54000 [==============================] - 2s 36us/sample - loss: 1.2158 - sparse_categorical_accuracy: 0.7509 - val_loss: 1.1171 - val_sparse_categorical_accuracy: 0.7702\n",
      "Epoch 4/20\n",
      "53056/54000 [============================>.] - ETA: 0s - loss: 1.0451 - sparse_categorical_accuracy: 0.7831\n",
      "Epoch 00004: val_sparse_categorical_accuracy improved from 0.77017 to 0.79833, saving model to /Users/diningphil/git/Intro_Keras/checkpoints/linear/cp.ckpt\n",
      "INFO:tensorflow:Assets written to: /Users/diningphil/git/Intro_Keras/checkpoints/linear/cp.ckpt/assets\n",
      "54000/54000 [==============================] - 2s 35us/sample - loss: 1.0435 - sparse_categorical_accuracy: 0.7834 - val_loss: 0.9815 - val_sparse_categorical_accuracy: 0.7983\n",
      "Epoch 5/20\n",
      "53696/54000 [============================>.] - ETA: 0s - loss: 0.9307 - sparse_categorical_accuracy: 0.8037\n",
      "Epoch 00005: val_sparse_categorical_accuracy improved from 0.79833 to 0.81633, saving model to /Users/diningphil/git/Intro_Keras/checkpoints/linear/cp.ckpt\n",
      "INFO:tensorflow:Assets written to: /Users/diningphil/git/Intro_Keras/checkpoints/linear/cp.ckpt/assets\n",
      "54000/54000 [==============================] - 2s 40us/sample - loss: 0.9301 - sparse_categorical_accuracy: 0.8040 - val_loss: 0.8885 - val_sparse_categorical_accuracy: 0.8163\n",
      "Epoch 6/20\n",
      "52480/54000 [============================>.] - ETA: 0s - loss: 0.8508 - sparse_categorical_accuracy: 0.8181\n",
      "Epoch 00006: val_sparse_categorical_accuracy improved from 0.81633 to 0.82367, saving model to /Users/diningphil/git/Intro_Keras/checkpoints/linear/cp.ckpt\n",
      "INFO:tensorflow:Assets written to: /Users/diningphil/git/Intro_Keras/checkpoints/linear/cp.ckpt/assets\n",
      "54000/54000 [==============================] - 2s 40us/sample - loss: 0.8500 - sparse_categorical_accuracy: 0.8180 - val_loss: 0.8211 - val_sparse_categorical_accuracy: 0.8237\n",
      "Epoch 7/20\n",
      "53184/54000 [============================>.] - ETA: 0s - loss: 0.7911 - sparse_categorical_accuracy: 0.8267\n",
      "Epoch 00007: val_sparse_categorical_accuracy improved from 0.82367 to 0.82917, saving model to /Users/diningphil/git/Intro_Keras/checkpoints/linear/cp.ckpt\n",
      "INFO:tensorflow:Assets written to: /Users/diningphil/git/Intro_Keras/checkpoints/linear/cp.ckpt/assets\n",
      "54000/54000 [==============================] - 2s 42us/sample - loss: 0.7904 - sparse_categorical_accuracy: 0.8269 - val_loss: 0.7696 - val_sparse_categorical_accuracy: 0.8292\n",
      "Epoch 8/20\n",
      "53120/54000 [============================>.] - ETA: 0s - loss: 0.7439 - sparse_categorical_accuracy: 0.8345\n",
      "Epoch 00008: val_sparse_categorical_accuracy improved from 0.82917 to 0.83467, saving model to /Users/diningphil/git/Intro_Keras/checkpoints/linear/cp.ckpt\n",
      "INFO:tensorflow:Assets written to: /Users/diningphil/git/Intro_Keras/checkpoints/linear/cp.ckpt/assets\n",
      "54000/54000 [==============================] - 2s 34us/sample - loss: 0.7441 - sparse_categorical_accuracy: 0.8342 - val_loss: 0.7290 - val_sparse_categorical_accuracy: 0.8347\n",
      "Epoch 9/20\n",
      "52416/54000 [============================>.] - ETA: 0s - loss: 0.7077 - sparse_categorical_accuracy: 0.8396\n",
      "Epoch 00009: val_sparse_categorical_accuracy improved from 0.83467 to 0.83883, saving model to /Users/diningphil/git/Intro_Keras/checkpoints/linear/cp.ckpt\n",
      "INFO:tensorflow:Assets written to: /Users/diningphil/git/Intro_Keras/checkpoints/linear/cp.ckpt/assets\n",
      "54000/54000 [==============================] - 2s 35us/sample - loss: 0.7069 - sparse_categorical_accuracy: 0.8400 - val_loss: 0.6961 - val_sparse_categorical_accuracy: 0.8388\n",
      "Epoch 10/20\n",
      "53568/54000 [============================>.] - ETA: 0s - loss: 0.6765 - sparse_categorical_accuracy: 0.8444\n",
      "Epoch 00010: val_sparse_categorical_accuracy improved from 0.83883 to 0.84467, saving model to /Users/diningphil/git/Intro_Keras/checkpoints/linear/cp.ckpt\n",
      "INFO:tensorflow:Assets written to: /Users/diningphil/git/Intro_Keras/checkpoints/linear/cp.ckpt/assets\n",
      "54000/54000 [==============================] - 2s 35us/sample - loss: 0.6765 - sparse_categorical_accuracy: 0.8443 - val_loss: 0.6686 - val_sparse_categorical_accuracy: 0.8447\n",
      "Epoch 11/20\n",
      "52928/54000 [============================>.] - ETA: 0s - loss: 0.6518 - sparse_categorical_accuracy: 0.8479- ETA: 1s - loss: 0.6563 - sparse_cate\n",
      "Epoch 00011: val_sparse_categorical_accuracy improved from 0.84467 to 0.84817, saving model to /Users/diningphil/git/Intro_Keras/checkpoints/linear/cp.ckpt\n",
      "INFO:tensorflow:Assets written to: /Users/diningphil/git/Intro_Keras/checkpoints/linear/cp.ckpt/assets\n",
      "54000/54000 [==============================] - 2s 39us/sample - loss: 0.6510 - sparse_categorical_accuracy: 0.8482 - val_loss: 0.6455 - val_sparse_categorical_accuracy: 0.8482\n",
      "Epoch 12/20\n",
      "53312/54000 [============================>.] - ETA: 0s - loss: 0.6295 - sparse_categorical_accuracy: 0.8513\n",
      "Epoch 00012: val_sparse_categorical_accuracy improved from 0.84817 to 0.85150, saving model to /Users/diningphil/git/Intro_Keras/checkpoints/linear/cp.ckpt\n",
      "INFO:tensorflow:Assets written to: /Users/diningphil/git/Intro_Keras/checkpoints/linear/cp.ckpt/assets\n",
      "54000/54000 [==============================] - 2s 30us/sample - loss: 0.6292 - sparse_categorical_accuracy: 0.8513 - val_loss: 0.6256 - val_sparse_categorical_accuracy: 0.8515\n",
      "Epoch 13/20\n",
      "53760/54000 [============================>.] - ETA: 0s - loss: 0.6104 - sparse_categorical_accuracy: 0.8543\n",
      "Epoch 00013: val_sparse_categorical_accuracy improved from 0.85150 to 0.85450, saving model to /Users/diningphil/git/Intro_Keras/checkpoints/linear/cp.ckpt\n",
      "INFO:tensorflow:Assets written to: /Users/diningphil/git/Intro_Keras/checkpoints/linear/cp.ckpt/assets\n",
      "54000/54000 [==============================] - 2s 31us/sample - loss: 0.6104 - sparse_categorical_accuracy: 0.8543 - val_loss: 0.6083 - val_sparse_categorical_accuracy: 0.8545\n",
      "Epoch 14/20\n",
      "52800/54000 [============================>.] - ETA: 0s - loss: 0.5942 - sparse_categorical_accuracy: 0.8566\n",
      "Epoch 00014: val_sparse_categorical_accuracy improved from 0.85450 to 0.85667, saving model to /Users/diningphil/git/Intro_Keras/checkpoints/linear/cp.ckpt\n",
      "INFO:tensorflow:Assets written to: /Users/diningphil/git/Intro_Keras/checkpoints/linear/cp.ckpt/assets\n",
      "54000/54000 [==============================] - 2s 41us/sample - loss: 0.5940 - sparse_categorical_accuracy: 0.8566 - val_loss: 0.5931 - val_sparse_categorical_accuracy: 0.8567\n"
     ]
    },
    {
     "name": "stdout",
     "output_type": "stream",
     "text": [
      "Epoch 15/20\n",
      "52352/54000 [============================>.] - ETA: 0s - loss: 0.5781 - sparse_categorical_accuracy: 0.8599- ETA: 0s - loss: 0.5795 - sparse_categorical_accuracy: 0\n",
      "Epoch 00015: val_sparse_categorical_accuracy improved from 0.85667 to 0.85900, saving model to /Users/diningphil/git/Intro_Keras/checkpoints/linear/cp.ckpt\n",
      "INFO:tensorflow:Assets written to: /Users/diningphil/git/Intro_Keras/checkpoints/linear/cp.ckpt/assets\n",
      "54000/54000 [==============================] - 2s 34us/sample - loss: 0.5795 - sparse_categorical_accuracy: 0.8593 - val_loss: 0.5797 - val_sparse_categorical_accuracy: 0.8590\n",
      "Epoch 16/20\n",
      "53376/54000 [============================>.] - ETA: 0s - loss: 0.5667 - sparse_categorical_accuracy: 0.8614\n",
      "Epoch 00016: val_sparse_categorical_accuracy improved from 0.85900 to 0.86150, saving model to /Users/diningphil/git/Intro_Keras/checkpoints/linear/cp.ckpt\n",
      "INFO:tensorflow:Assets written to: /Users/diningphil/git/Intro_Keras/checkpoints/linear/cp.ckpt/assets\n",
      "54000/54000 [==============================] - 2s 32us/sample - loss: 0.5666 - sparse_categorical_accuracy: 0.8614 - val_loss: 0.5677 - val_sparse_categorical_accuracy: 0.8615\n",
      "Epoch 17/20\n",
      "53120/54000 [============================>.] - ETA: 0s - loss: 0.5552 - sparse_categorical_accuracy: 0.8632\n",
      "Epoch 00017: val_sparse_categorical_accuracy improved from 0.86150 to 0.86333, saving model to /Users/diningphil/git/Intro_Keras/checkpoints/linear/cp.ckpt\n",
      "INFO:tensorflow:Assets written to: /Users/diningphil/git/Intro_Keras/checkpoints/linear/cp.ckpt/assets\n",
      "54000/54000 [==============================] - 2s 28us/sample - loss: 0.5550 - sparse_categorical_accuracy: 0.8632 - val_loss: 0.5569 - val_sparse_categorical_accuracy: 0.8633\n",
      "Epoch 18/20\n",
      "52992/54000 [============================>.] - ETA: 0s - loss: 0.5446 - sparse_categorical_accuracy: 0.8648\n",
      "Epoch 00018: val_sparse_categorical_accuracy improved from 0.86333 to 0.86533, saving model to /Users/diningphil/git/Intro_Keras/checkpoints/linear/cp.ckpt\n",
      "INFO:tensorflow:Assets written to: /Users/diningphil/git/Intro_Keras/checkpoints/linear/cp.ckpt/assets\n",
      "54000/54000 [==============================] - 2s 28us/sample - loss: 0.5445 - sparse_categorical_accuracy: 0.8649 - val_loss: 0.5470 - val_sparse_categorical_accuracy: 0.8653\n",
      "Epoch 19/20\n",
      "53504/54000 [============================>.] - ETA: 0s - loss: 0.5349 - sparse_categorical_accuracy: 0.8663\n",
      "Epoch 00019: val_sparse_categorical_accuracy improved from 0.86533 to 0.86783, saving model to /Users/diningphil/git/Intro_Keras/checkpoints/linear/cp.ckpt\n",
      "INFO:tensorflow:Assets written to: /Users/diningphil/git/Intro_Keras/checkpoints/linear/cp.ckpt/assets\n",
      "54000/54000 [==============================] - 2s 31us/sample - loss: 0.5350 - sparse_categorical_accuracy: 0.8663 - val_loss: 0.5381 - val_sparse_categorical_accuracy: 0.8678\n",
      "Epoch 20/20\n",
      "52544/54000 [============================>.] - ETA: 0s - loss: 0.5277 - sparse_categorical_accuracy: 0.8673\n",
      "Epoch 00020: val_sparse_categorical_accuracy improved from 0.86783 to 0.86900, saving model to /Users/diningphil/git/Intro_Keras/checkpoints/linear/cp.ckpt\n",
      "INFO:tensorflow:Assets written to: /Users/diningphil/git/Intro_Keras/checkpoints/linear/cp.ckpt/assets\n",
      "54000/54000 [==============================] - 1s 27us/sample - loss: 0.5263 - sparse_categorical_accuracy: 0.8677 - val_loss: 0.5298 - val_sparse_categorical_accuracy: 0.8690\n"
     ]
    }
   ],
   "source": [
    "# Clear any logs from previous runs\n",
    "!rm -rf ./logs_linear\n",
    "\n",
    "# Set up a log folder in which we will store the output to be displayed on TensorBoard\n",
    "logdir = os.path.abspath(\"logs_linear/fit/\" + datetime.now().strftime(\"%Y%m%d-%H%M%S\"))\n",
    "tensorboard_callback = TensorBoard(log_dir=logdir)\n",
    "\n",
    "# Chekpoint path for storing our model\n",
    "checkpoint_path = os.path.abspath(\"checkpoints/linear/cp.ckpt\")\n",
    "checkpoint_dir = os.path.dirname(checkpoint_path)\n",
    "\n",
    "# Create a callback that saves the model's weights\n",
    "# There are many possible ways to store a model, for example every n epochs. Check the documentation, very useful!\n",
    "save_callback = ModelCheckpoint(filepath=checkpoint_path,\n",
    "                                                 save_best_only=True,  # Save only the best epoch according to valid set\n",
    "                                                 monitor=\"val_sparse_categorical_accuracy\",  # Save according to valid acc\n",
    "                                                 verbose=1,\n",
    "                                                 save_weights_only=False,  # we want to save the graph as well  \n",
    "                                                 )  \n",
    "\n",
    "# Train the Model!\n",
    "# Note: fit has also the chance to specify a validation split percentage\n",
    "print('# Fit model on training data')\n",
    "history = linear.fit(x_train, y_train,\n",
    "                    batch_size=batch_size,\n",
    "                    epochs=no_epochs,\n",
    "                    # We pass some validation for\n",
    "                    # monitoring validation loss and metrics\n",
    "                    # at the end of each epoch\n",
    "                    validation_data=(x_valid, y_valid),\n",
    "                    callbacks=[save_callback, tensorboard_callback]\n",
    "                    )"
   ]
  },
  {
   "cell_type": "code",
   "execution_count": 18,
   "metadata": {
    "scrolled": true
   },
   "outputs": [
    {
     "data": {
      "text/html": [
       "\n",
       "      <iframe id=\"tensorboard-frame-6db877f210820a86\" width=\"100%\" height=\"800\" frameborder=\"0\">\n",
       "      </iframe>\n",
       "      <script>\n",
       "        (function() {\n",
       "          const frame = document.getElementById(\"tensorboard-frame-6db877f210820a86\");\n",
       "          const url = new URL(\"/\", window.location);\n",
       "          url.port = 6006;\n",
       "          frame.src = url;\n",
       "        })();\n",
       "      </script>\n",
       "  "
      ],
      "text/plain": [
       "<IPython.core.display.HTML object>"
      ]
     },
     "metadata": {},
     "output_type": "display_data"
    }
   ],
   "source": [
    "# Visualize your model\n",
    "%tensorboard --logdir {logdir}"
   ]
  },
  {
   "cell_type": "markdown",
   "metadata": {},
   "source": [
    "## Load the model from disk (for demo purposes)"
   ]
  },
  {
   "cell_type": "code",
   "execution_count": 19,
   "metadata": {},
   "outputs": [],
   "source": [
    "model = tf.keras.models.load_model(checkpoint_path)"
   ]
  },
  {
   "cell_type": "markdown",
   "metadata": {},
   "source": [
    "## Test time! \n",
    "### We cannot change the hyper-parameters once we evaluate on test!\n",
    "\n"
   ]
  },
  {
   "cell_type": "code",
   "execution_count": 20,
   "metadata": {},
   "outputs": [
    {
     "name": "stdout",
     "output_type": "stream",
     "text": [
      "Test loss: 0.4995541241168976, Test Accuracy: 87.73000240325928\n"
     ]
    }
   ],
   "source": [
    "score = model.evaluate(x_test, y_test, batch_size=128, verbose=0)  # Verbose 0 does not show any log\n",
    "print(f'Test loss: {score[0]}, Test Accuracy: {score[1]*100}')"
   ]
  },
  {
   "cell_type": "markdown",
   "metadata": {},
   "source": [
    "# IMPORTANT\n",
    "## We found the TEST accuracy of our linear model. There's no turning back now, you should go to your boss to report this result.\n",
    "## If you start again changing hyper-parameters and see if it improves on TEST, that is dead wrong! You are using the TEST as a VALIDATION !!\n",
    "\n",
    "### Instead, take some more time to validate a broader range of configurations on the VALIDATION test."
   ]
  },
  {
   "cell_type": "markdown",
   "metadata": {},
   "source": [
    "## Let's classify one example from the test set"
   ]
  },
  {
   "cell_type": "code",
   "execution_count": 21,
   "metadata": {},
   "outputs": [
    {
     "data": {
      "text/plain": [
       "<matplotlib.image.AxesImage at 0x1437a1bd0>"
      ]
     },
     "execution_count": 21,
     "metadata": {},
     "output_type": "execute_result"
    },
    {
     "data": {
      "image/png": "[encoded data removed]",
      "text/plain": [
       "<Figure size 432x288 with 1 Axes>"
      ]
     },
     "metadata": {
      "needs_background": "light"
     },
     "output_type": "display_data"
    }
   ],
   "source": [
    "plt.imshow(x_test[0].reshape(mnist_img_rows, mnist_img_cols), cmap='gray')"
   ]
  },
  {
   "cell_type": "code",
   "execution_count": 22,
   "metadata": {},
   "outputs": [
    {
     "name": "stdout",
     "output_type": "stream",
     "text": [
      "The class that has maximum probability associated to the input is: 7\n"
     ]
    }
   ],
   "source": [
    "# Add a softmax activation to get probabilities\n",
    "model.add(Softmax())\n",
    "\n",
    "# Predict output\n",
    "y = model.predict(np.expand_dims(x_test[0,:], 0))\n",
    "\n",
    "print(f'The class that has maximum probability associated to the input is: {np.argmax(y)}')"
   ]
  },
  {
   "cell_type": "markdown",
   "metadata": {},
   "source": [
    "\n",
    "\n",
    "# Exercise time! Change the code below to train an MLP!\n",
    "## I have included a complete example with the code to perform model selection via random search."
   ]
  },
  {
   "cell_type": "markdown",
   "metadata": {},
   "source": [
    "<img src=\"https://drive.google.com/uc?id=1lRjIAnAV9kPNMWPOcF3ub4odChbTkFwR\" max-heigth=50%>"
   ]
  },
  {
   "cell_type": "code",
   "execution_count": null,
   "metadata": {},
   "outputs": [],
   "source": [
    "# Clear any logs\n",
    "!rm -rf ./logs_linear/model_selection\n",
    "\n",
    "\n",
    "# Hyper-parameters ranges of the model\n",
    "l1_regularization = 0.\n",
    "l2_regularization = (1e-3, 1e-5)\n",
    "learning_rate = (1e-3, 5e-3)\n",
    "batch_size = 64\n",
    "no_epochs = (20, 50)\n",
    "\n",
    "\n",
    "# Data structure to store the best configuration tried on the VALIDATION set\n",
    "best_config = {\"val_score\": 0.,\n",
    "               \"l1_regularization\": None,\n",
    "               \"l2_regularization\": None,\n",
    "               \"learning_rate\": None,\n",
    "               \"batch_size\": None,\n",
    "               \"no_epochs\": None,\n",
    "               \"config_id\": None,\n",
    "               }\n",
    "\n",
    "no_random_searches = 5\n",
    "\n",
    "for i in range(no_random_searches):\n",
    "    \n",
    "    # Select a random configuration\n",
    "    l2 = random.uniform(l2_regularization[0], l2_regularization[1])\n",
    "    lr = random.uniform(learning_rate[0], learning_rate[1])\n",
    "    epochs = random.randint(no_epochs[0], no_epochs[1])\n",
    "    \n",
    "    # We will define a linear model with the Sequential API\n",
    "    model = Sequential()\n",
    "\n",
    "    # Let's add the connection between input and output\n",
    "    model.add(Dense(units=dim_target,  # depends on the task at hand\n",
    "                     activation='linear',  # the identiy mapping (no need to use non-linearities here, it's a linear model!)\n",
    "                     use_bias=True,  # we want to implement Wx + b where b is the bias\n",
    "                     kernel_regularizer=regularizers.l1_l2(l1=l1_regularization, l2=l2)  # Regularizes the weight matrix W                 \n",
    "                     ))\n",
    "    \n",
    "    model.compile(optimizer=optimizers.SGD(lr=lr),  # Optimizer\n",
    "                   # Loss function to minimize\n",
    "                   loss=losses.SparseCategoricalCrossentropy(from_logits=True),  # Sparse will convert categorical labels for us in one-hot form!\n",
    "                   # List of metrics to monitor\n",
    "                   metrics=[metrics.sparse_categorical_accuracy])\n",
    "\n",
    "\n",
    "    # Set up a log folder in which we will store the output to be displayed on TensorBoard\n",
    "    logdir = os.path.abspath(f\"logs_linear/model_selection/config_{i}/fit/\")\n",
    "    tensorboard_callback = TensorBoard(log_dir=logdir)\n",
    "\n",
    "    # Train the Model!\n",
    "    # Note: fit has also the chance to specify a validation split percentage\n",
    "    print('# Fit model on training data')\n",
    "    history = model.fit(x_train, y_train,\n",
    "                        batch_size=batch_size,\n",
    "                        epochs=epochs,\n",
    "                        # We pass some validation for\n",
    "                        # monitoring validation loss and metrics\n",
    "                        # at the end of each epoch\n",
    "                        validation_data=(x_valid, y_valid),\n",
    "                        callbacks=[tensorboard_callback]\n",
    "                        )\n",
    "    \n",
    "    score = model.evaluate(x_valid, y_valid, batch_size=128, verbose=0)  # Verbose 0 does not show any log\n",
    "    print(f'Validation loss: {score[0]}, Validation Accuracy: {score[1]*100}')\n",
    "    \n",
    "    if score[1]*100 >= best_config['val_score']:\n",
    "        best_config['val_score'] = score[1]*100\n",
    "        best_config['l1_regularization'] = l1_regularization\n",
    "        best_config['l2_regularization'] = l2\n",
    "        best_config['learning_rate'] = lr\n",
    "        best_config['no_epochs'] = no_epochs\n",
    "        best_config['batch_size'] = batch_size\n",
    "        best_config['config_id'] = i\n"
   ]
  },
  {
   "cell_type": "code",
   "execution_count": null,
   "metadata": {},
   "outputs": [],
   "source": [
    "print(best_config)"
   ]
  },
  {
   "cell_type": "markdown",
   "metadata": {},
   "source": [
    "### Cool! We automatically found our best candidate :) now test it on test! Then there's no turning back ;)"
   ]
  },
  {
   "cell_type": "code",
   "execution_count": null,
   "metadata": {},
   "outputs": [],
   "source": [
    "# Visualize your winning model\n",
    "%tensorboard --logdir ./logs_linear/model_selection/config_{best_config[\"config_id\"]}/fit/"
   ]
  },
  {
   "cell_type": "code",
   "execution_count": null,
   "metadata": {},
   "outputs": [],
   "source": [
    "score = model.evaluate(x_test, y_test, batch_size=128, verbose=0)  # Verbose 0 does not show any log\n",
    "print(f'Test loss: {score[0]}, Test Accuracy: {score[1]*100}')"
   ]
  }
 ],
 "metadata": {
  "kernelspec": {
   "display_name": "Python 3",
   "language": "python",
   "name": "python3"
  },
  "language_info": {
   "codemirror_mode": {
    "name": "ipython",
    "version": 3
   },
   "file_extension": ".py",
   "mimetype": "text/x-python",
   "name": "python",
   "nbconvert_exporter": "python",
   "pygments_lexer": "ipython3",
   "version": "3.7.6"
  }
 },
 "nbformat": 4,
 "nbformat_minor": 4
}
